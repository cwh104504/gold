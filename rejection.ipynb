{
 "cells": [
  {
   "cell_type": "code",
   "execution_count": null,
   "metadata": {
    "collapsed": true
   },
   "outputs": [],
   "source": [
    "import os\n",
    "import math\n",
    "import numpy as np\n",
    "import matplotlib.pyplot as plt\n",
    "import torch\n",
    "import torch.nn as nn\n",
    "import torch.optim as optim\n",
    "import torch.utils.data as data_utils\n",
    "from torchvision import datasets\n",
    "from torchvision import transforms as T\n",
    "\n",
    "%matplotlib inline\n",
    "import network\n",
    "from utils import make_z, make_y, make_fixed_z, make_fixed_y\n",
    "from utils.drs import drs, fitting_capacity"
   ]
  },
  {
   "cell_type": "code",
   "execution_count": null,
   "metadata": {
    "collapsed": true,
    "scrolled": false
   },
   "outputs": [],
   "source": [
    "nz, ny, nc = 100, 10, 1\n",
    "dataset = datasets.MNIST('./dataset/mnist', train=True, download=True)\n",
    "testset = datasets.MNIST('./dataset/mnist', train=False, download=True)\n",
    "testset.transform = T.Compose([\n",
    "    T.Resize(32),\n",
    "    T.ToTensor(),\n",
    "    T.Normalize((0.5, 0.5, 0.5), (0.5, 0.5, 0.5))\n",
    "])\n",
    "\n",
    "netG = network.ACGAN_MNIST_Generator(nz, nc, ny).cuda()\n",
    "netD = network.ACGAN_MNIST_Discriminator(nc, ny, use_sn=True).cuda()\n",
    "netG.eval()\n",
    "netD.eval()\n",
    "\n",
    "def load_network(name, it=1):\n",
    "    netG_path = './{}/netG_{}.pth'.format(name, it)\n",
    "    netD_path = './{}/netD_{}.pth'.format(name, it)\n",
    "    netG.load_state_dict(torch.load(netG_path))\n",
    "    netD.load_state_dict(torch.load(netD_path))\n",
    "\n",
    "load_network('logs/reweight_base')"
   ]
  },
  {
   "cell_type": "code",
   "execution_count": null,
   "metadata": {},
   "outputs": [],
   "source": [
    "num_samples = 5000  # sample per class\n",
    "z = make_z(num_samples * ny, nz).cuda()\n",
    "y = make_fixed_y(num_samples, ny).cuda()\n",
    "with torch.no_grad():\n",
    "    x = netG(z, y)\n",
    "\n",
    "samples = data_utils.TensorDataset(x.cpu(), y.cpu())\n",
    "acc = fitting_capacity(samples, testset)\n",
    "print(acc)"
   ]
  },
  {
   "cell_type": "code",
   "execution_count": null,
   "metadata": {},
   "outputs": [],
   "source": [
    "num_samples = 5000  # sample per class\n",
    "x = drs(netG, netD, num_samples, perc=10)\n",
    "samples = data_utils.TensorDataset(x.cpu(), y.cpu())\n",
    "acc = fitting_capacity(samples, testset)\n",
    "print(acc)"
   ]
  },
  {
   "cell_type": "code",
   "execution_count": null,
   "metadata": {
    "collapsed": true
   },
   "outputs": [],
   "source": []
  }
 ],
 "metadata": {
  "kernelspec": {
   "display_name": "Python 3",
   "language": "python",
   "name": "python3"
  },
  "language_info": {
   "codemirror_mode": {
    "name": "ipython",
    "version": 3
   },
   "file_extension": ".py",
   "mimetype": "text/x-python",
   "name": "python",
   "nbconvert_exporter": "python",
   "pygments_lexer": "ipython3",
   "version": "3.6.3"
  }
 },
 "nbformat": 4,
 "nbformat_minor": 2
}
